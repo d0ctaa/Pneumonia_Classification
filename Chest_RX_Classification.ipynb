{
  "cells": [
    {
      "cell_type": "markdown",
      "metadata": {
        "id": "view-in-github",
        "colab_type": "text"
      },
      "source": [
        "<a href=\"https://colab.research.google.com/github/d0ctaa/Torch/blob/main/Chest_RX_Classification.ipynb\" target=\"_parent\"><img src=\"https://colab.research.google.com/assets/colab-badge.svg\" alt=\"Open In Colab\"/></a>"
      ]
    },
    {
      "cell_type": "code",
      "source": [
        "!pip install torchmetrics"
      ],
      "metadata": {
        "id": "Y81FsYTys4Nx"
      },
      "execution_count": null,
      "outputs": []
    },
    {
      "cell_type": "code",
      "execution_count": null,
      "metadata": {
        "id": "T5p2qM0a6KgR"
      },
      "outputs": [],
      "source": [
        "import os\n",
        "import pandas as pd\n",
        "import numpy as np\n",
        "import torch\n",
        "import torchvision.models as models\n",
        "from torchvision.transforms import v2\n",
        "from torchvision.datasets import ImageFolder\n",
        "from torch.utils.data import DataLoader, random_split\n",
        "from torchvision.models import ResNet50_Weights\n",
        "import matplotlib.pyplot as plt\n",
        "import torch.optim as optim\n",
        "import torch.nn as nn\n",
        "import torchvision.transforms.functional as F\n",
        "import torch.nn.functional as f\n",
        "from torchmetrics.functional import auroc\n",
        "from sklearn.metrics import auc, f1_score\n"
      ]
    },
    {
      "cell_type": "code",
      "execution_count": null,
      "metadata": {
        "id": "zZZoEvVozZR7"
      },
      "outputs": [],
      "source": [
        "device = torch.device('cuda')"
      ]
    },
    {
      "cell_type": "code",
      "execution_count": null,
      "metadata": {
        "colab": {
          "base_uri": "https://localhost:8080/"
        },
        "id": "gLwxWZtIfeO8",
        "outputId": "2c756860-c2b2-422e-cf1b-21c9ffc0c952"
      },
      "outputs": [
        {
          "output_type": "stream",
          "name": "stdout",
          "text": [
            "Drive already mounted at /content/gdrive; to attempt to forcibly remount, call drive.mount(\"/content/gdrive\", force_remount=True).\n"
          ]
        }
      ],
      "source": [
        "from google.colab import drive\n",
        "drive.mount('/content/gdrive')"
      ]
    },
    {
      "cell_type": "code",
      "execution_count": null,
      "metadata": {
        "colab": {
          "base_uri": "https://localhost:8080/",
          "height": 35
        },
        "id": "QODH4E48XVtf",
        "outputId": "d0b8eb65-9822-4f09-9c49-bf4b891d519a"
      },
      "outputs": [
        {
          "output_type": "execute_result",
          "data": {
            "text/plain": [
              "'2.2.1+cu121'"
            ],
            "application/vnd.google.colaboratory.intrinsic+json": {
              "type": "string"
            }
          },
          "metadata": {},
          "execution_count": 4
        }
      ],
      "source": [
        "torch.__version__"
      ]
    },
    {
      "cell_type": "code",
      "execution_count": null,
      "metadata": {
        "colab": {
          "base_uri": "https://localhost:8080/"
        },
        "id": "kTU9b-dI-XMm",
        "outputId": "49070879-1c76-42fc-e10f-6a8f9ca94d40"
      },
      "outputs": [
        {
          "output_type": "stream",
          "name": "stdout",
          "text": [
            "Sat Apr 13 19:02:50 2024       \n",
            "+---------------------------------------------------------------------------------------+\n",
            "| NVIDIA-SMI 535.104.05             Driver Version: 535.104.05   CUDA Version: 12.2     |\n",
            "|-----------------------------------------+----------------------+----------------------+\n",
            "| GPU  Name                 Persistence-M | Bus-Id        Disp.A | Volatile Uncorr. ECC |\n",
            "| Fan  Temp   Perf          Pwr:Usage/Cap |         Memory-Usage | GPU-Util  Compute M. |\n",
            "|                                         |                      |               MIG M. |\n",
            "|=========================================+======================+======================|\n",
            "|   0  Tesla T4                       Off | 00000000:00:04.0 Off |                    0 |\n",
            "| N/A   36C    P8               9W /  70W |      0MiB / 15360MiB |      0%      Default |\n",
            "|                                         |                      |                  N/A |\n",
            "+-----------------------------------------+----------------------+----------------------+\n",
            "                                                                                         \n",
            "+---------------------------------------------------------------------------------------+\n",
            "| Processes:                                                                            |\n",
            "|  GPU   GI   CI        PID   Type   Process name                            GPU Memory |\n",
            "|        ID   ID                                                             Usage      |\n",
            "|=======================================================================================|\n",
            "|  No running processes found                                                           |\n",
            "+---------------------------------------------------------------------------------------+\n"
          ]
        }
      ],
      "source": [
        "!nvidia-smi"
      ]
    },
    {
      "cell_type": "markdown",
      "metadata": {
        "id": "TEvZe8Wy6KgT"
      },
      "source": [
        "> Transforms for the Dataset"
      ]
    },
    {
      "cell_type": "code",
      "execution_count": null,
      "metadata": {
        "id": "NPSJBLAE6KgV"
      },
      "outputs": [],
      "source": [
        "#Defining transforms to be applied to the images\n",
        "\n",
        "transform = v2.Compose([\n",
        "    v2.Resize((224, 224)),\n",
        "    v2.Grayscale(num_output_channels=3),\n",
        "    v2.RandomRotation(degrees=(0, 180)),\n",
        "    v2.RandomVerticalFlip(p=0.25),\n",
        "    v2.RandomHorizontalFlip(p=0.25),\n",
        "    v2.ToImage(),\n",
        "    v2.ToDtype(torch.float32, scale=True),\n",
        "    v2.Normalize(mean=[0.485], std=[0.229])\n",
        "])"
      ]
    },
    {
      "cell_type": "markdown",
      "metadata": {
        "id": "F19j3Flm6KgV"
      },
      "source": [
        "> Import Dataset. Training and Testing"
      ]
    },
    {
      "cell_type": "code",
      "execution_count": null,
      "metadata": {
        "id": "yYqBJrrI6KgW"
      },
      "outputs": [],
      "source": [
        "MainSet = ImageFolder(root='/content/gdrive/MyDrive/data_chest_xray/train', transform=transform) # Train Dataset containing Normal and Pneumonia X-Rays\n",
        "\n",
        "testSet = ImageFolder(root='/content/gdrive/MyDrive/data_chest_xray/test', transform=transform) # Test Dataset containing Normal and Pneumonia X-Rays"
      ]
    },
    {
      "cell_type": "markdown",
      "metadata": {
        "id": "3vR47N8O6KgW"
      },
      "source": [
        "> Create a validation Set"
      ]
    },
    {
      "cell_type": "code",
      "execution_count": null,
      "metadata": {
        "id": "X0szcm0u6KgX"
      },
      "outputs": [],
      "source": [
        "valSize = int(len(MainSet)* 0.2) #Take 20% of the main training set for validation\n",
        "trnSize = len(MainSet)-valSize # The remaining 80% goes to the final training set\n",
        "\n",
        "#Making the split with the size created above.\n",
        "trainSet, valSet = random_split(MainSet, [trnSize, valSize])"
      ]
    },
    {
      "cell_type": "markdown",
      "metadata": {
        "id": "c3J_uRdX6KgX"
      },
      "source": [
        "**Create data loader:**\n",
        " - Train,\n",
        " - Validate,\n",
        " - Test datasets"
      ]
    },
    {
      "cell_type": "code",
      "execution_count": null,
      "metadata": {
        "id": "bXoxEqyF6KgY"
      },
      "outputs": [],
      "source": [
        "trainLoader = DataLoader(trainSet, batch_size=32, shuffle=True)\n",
        "ValidLoader = DataLoader(valSet, batch_size=32, shuffle=False )\n",
        "testLoder = DataLoader (testSet, batch_size=32, shuffle=False)"
      ]
    },
    {
      "cell_type": "code",
      "source": [],
      "metadata": {
        "id": "K3rKsePuBnFT"
      },
      "execution_count": null,
      "outputs": []
    },
    {
      "cell_type": "markdown",
      "metadata": {
        "id": "383mA2lh6KgY"
      },
      "source": [
        " Instantiate the model & Add Regularization(Dropout)"
      ]
    },
    {
      "cell_type": "code",
      "execution_count": null,
      "metadata": {
        "id": "iBhe0xTD6KgY"
      },
      "outputs": [],
      "source": [
        "#Instantiate model\n",
        "res_model_1 = models.resnet50(weights=ResNet50_Weights.IMAGENET1K_V2)\n",
        "\n",
        "#Modify model to add dropout\n",
        "num_features = res_model_1.fc.in_features\n",
        "dropout_prob = 0.5  # Example dropout probability\n",
        "res_model_1.fc = nn.Sequential(\n",
        "    nn.Linear(num_features, 512),  # Example additional layer\n",
        "    nn.ReLU(inplace=True),\n",
        "    nn.Dropout(dropout_prob),  # Dropout layer\n",
        "    nn.Linear(512, len(MainSet.classes))  # Example output layer\n",
        ")"
      ]
    },
    {
      "cell_type": "markdown",
      "metadata": {
        "id": "jzh_exJb6KgZ"
      },
      "source": [
        "> Create Loss Function and Optimizers"
      ]
    },
    {
      "cell_type": "code",
      "execution_count": null,
      "metadata": {
        "id": "6xog3WGc6Kga"
      },
      "outputs": [],
      "source": [
        "criterion = nn.CrossEntropyLoss() #Loss Function\n",
        "\n",
        "optimizer = optim.SGD(res_model_1.parameters(),lr=0.01) #Optimizer"
      ]
    },
    {
      "cell_type": "markdown",
      "metadata": {
        "id": "pBeBWyd66Kga"
      },
      "source": [
        "> Training Loop"
      ]
    },
    {
      "cell_type": "code",
      "execution_count": null,
      "metadata": {
        "colab": {
          "base_uri": "https://localhost:8080/"
        },
        "id": "CJInmfEHDzoj",
        "outputId": "b35ac1fb-4b93-4dc7-f2a2-2de1d5117ac3"
      },
      "outputs": [
        {
          "output_type": "execute_result",
          "data": {
            "text/plain": [
              "True"
            ]
          },
          "metadata": {},
          "execution_count": 10
        }
      ],
      "source": [
        "torch.cuda.is_available()"
      ]
    },
    {
      "cell_type": "markdown",
      "metadata": {
        "id": "xGokpPqp6Kgb"
      },
      "source": [
        "#### OOLLO\n",
        "* Optimizer.zero_grad()\n",
        "* Output = model(data)\n",
        "* Loss = criterion(output, target)\n",
        "* Loss.backward()\n",
        "* Optimizer.step()"
      ]
    },
    {
      "cell_type": "code",
      "execution_count": null,
      "metadata": {
        "id": "WfBy4HTF6Kgb",
        "colab": {
          "base_uri": "https://localhost:8080/"
        },
        "outputId": "84d50c45-c935-46b4-dc4f-8cde710a871e"
      },
      "outputs": [
        {
          "output_type": "stream",
          "name": "stdout",
          "text": [
            "the Loss at 0 is: 0.3814307451248169\n",
            "the Loss at 1 is: 0.20651748776435852\n",
            "the Loss at 2 is: 0.11914914101362228\n",
            "the Loss at 3 is: 0.04209209233522415\n",
            "the Loss at 4 is: 0.3102274537086487\n",
            "the Loss at 5 is: 0.11081718653440475\n",
            "the Loss at 6 is: 0.30483609437942505\n",
            "the Loss at 7 is: 0.06920911371707916\n",
            "the Loss at 8 is: 0.01619032956659794\n",
            "the Loss at 9 is: 0.026751333847641945\n",
            "the Loss at 10 is: 0.05396253988146782\n",
            "the Loss at 11 is: 0.08593491464853287\n",
            "the Loss at 12 is: 0.031097663566470146\n",
            "the Loss at 13 is: 0.014696038328111172\n",
            "the Loss at 14 is: 0.018371785059571266\n",
            "the Loss at 15 is: 0.009674208238720894\n",
            "the Loss at 16 is: 0.11525299400091171\n",
            "the Loss at 17 is: 0.027542805299162865\n",
            "the Loss at 18 is: 0.08838570863008499\n",
            "the Loss at 19 is: 0.10220660269260406\n",
            "the Loss at 20 is: 0.2235364317893982\n",
            "the Loss at 21 is: 0.024093087762594223\n",
            "the Loss at 22 is: 0.02610643021762371\n",
            "the Loss at 23 is: 0.0022691034246236086\n",
            "the Loss at 24 is: 0.05323059484362602\n",
            "the Loss at 25 is: 0.015918005257844925\n",
            "the Loss at 26 is: 0.001870361971668899\n",
            "the Loss at 27 is: 0.010893257334828377\n",
            "the Loss at 28 is: 0.011348636820912361\n",
            "the Loss at 29 is: 0.00715959258377552\n",
            "the Loss at 30 is: 0.09319888800382614\n",
            "the Loss at 31 is: 0.03502504527568817\n",
            "the Loss at 32 is: 0.027331989258527756\n",
            "the Loss at 33 is: 0.010044664144515991\n",
            "the Loss at 34 is: 0.00992125365883112\n",
            "the Loss at 35 is: 0.21855923533439636\n",
            "the Loss at 36 is: 0.0049331774935126305\n",
            "the Loss at 37 is: 0.011966779828071594\n",
            "the Loss at 38 is: 0.0011890219757333398\n",
            "the Loss at 39 is: 0.013173872604966164\n",
            "the Loss at 40 is: 0.06309060007333755\n",
            "the Loss at 41 is: 0.020685838535428047\n",
            "the Loss at 42 is: 0.006569258403033018\n",
            "the Loss at 43 is: 0.0031522505450993776\n",
            "the Loss at 44 is: 0.020551681518554688\n",
            "the Loss at 45 is: 0.004046447575092316\n",
            "the Loss at 46 is: 0.004177190829068422\n",
            "the Loss at 47 is: 0.01897094026207924\n",
            "the Loss at 48 is: 0.0004027035611215979\n",
            "the Loss at 49 is: 0.005839920602738857\n"
          ]
        }
      ],
      "source": [
        "device = torch.device('cuda')\n",
        "lossVals = []\n",
        "epochVals = []\n",
        "\n",
        "# Move model to GPU\n",
        "res_model_1.to(device)\n",
        "\n",
        "\n",
        "for epoch in range(50):\n",
        "  res_model_1.train() #Setting the model to training mode\n",
        "  for data, label in trainLoader:\n",
        "\n",
        "    #move the code to run on gpu\n",
        "    data, label = data.to(device), label.to(device)\n",
        "\n",
        "    #Reset Gradient to zero so it doesn't accumulate\n",
        "    optimizer.zero_grad()\n",
        "\n",
        "    #Put Data trough the model\n",
        "    res_output = res_model_1(data)\n",
        "\n",
        "    #Calculate the Loss\n",
        "    loss = criterion(res_output, label)\n",
        "\n",
        "    #Back Propagation using autograd\n",
        "    loss.backward()\n",
        "\n",
        "    #Gradient Descent\n",
        "    optimizer.step()\n",
        "\n",
        "  lossVals.append(loss.item())\n",
        "  epochVals.append(epoch)\n",
        "\n",
        "  print(f\"the Loss at {epoch} is: {loss.item()}\")"
      ]
    },
    {
      "cell_type": "code",
      "execution_count": null,
      "metadata": {
        "colab": {
          "base_uri": "https://localhost:8080/",
          "height": 435
        },
        "id": "vp__9HrkEh1g",
        "outputId": "bf24a702-c8b9-4a1d-a26d-84bc7a279ced"
      },
      "outputs": [
        {
          "output_type": "display_data",
          "data": {
            "text/plain": [
              "<Figure size 640x480 with 1 Axes>"
            ],
            "image/png": "[encoded data removed]"
          },
          "metadata": {}
        }
      ],
      "source": [
        "fig, ax = plt.subplots()\n",
        "ax.plot(epochVals, lossVals)\n",
        "plt.show()"
      ]
    },
    {
      "cell_type": "code",
      "source": [],
      "metadata": {
        "id": "Gkj2DHAZ_jeK"
      },
      "execution_count": null,
      "outputs": []
    },
    {
      "cell_type": "markdown",
      "source": [
        "## Evaluation Loop"
      ],
      "metadata": {
        "id": "63BTkOoJDmDc"
      }
    },
    {
      "cell_type": "markdown",
      "source": [
        "### Save Model to google Drive"
      ],
      "metadata": {
        "id": "URVnnA2yrR2i"
      }
    },
    {
      "cell_type": "code",
      "execution_count": null,
      "metadata": {
        "id": "2t5k5utJRCsD"
      },
      "outputs": [],
      "source": [
        "torch.save(res_model_1.state_dict(), '/content/gdrive/MyDrive/model_checkpoint.pth')"
      ]
    },
    {
      "cell_type": "markdown",
      "source": [
        "### Load Model from a saved state"
      ],
      "metadata": {
        "id": "apbZFheXrIRw"
      }
    },
    {
      "cell_type": "code",
      "execution_count": null,
      "metadata": {
        "id": "ctAQUgkhWGFg",
        "colab": {
          "base_uri": "https://localhost:8080/"
        },
        "outputId": "8b0744b1-df2e-4ff1-b891-24fe4a21dee3"
      },
      "outputs": [
        {
          "output_type": "execute_result",
          "data": {
            "text/plain": [
              "<All keys matched successfully>"
            ]
          },
          "metadata": {},
          "execution_count": 11
        }
      ],
      "source": [
        "model_path = '/content/gdrive/MyDrive/model_checkpoint.pth'\n",
        "res_model_1.load_state_dict(torch.load(model_path))"
      ]
    },
    {
      "cell_type": "markdown",
      "source": [
        "### Evaluation Loop"
      ],
      "metadata": {
        "id": "PBCYk5W2rZOD"
      }
    },
    {
      "cell_type": "code",
      "source": [
        "res_model_1.to(device) #Move the newly loaded model from gdrive to GPU\n",
        "res_model_1.eval() #Set Model to evaluation state. This turns off AutoGrad\n",
        "val_results = [] # Empty list to store Evaluation results from each loop\n",
        "val_labels = [] # Storing the corresponding labels\n",
        "\n",
        "with torch.inference_mode():\n",
        "  for data, label in ValidLoader:\n",
        "    data, label = data.to(device), label.to(device)\n",
        "\n",
        "    validation_preds = res_model_1(data)\n",
        "    val_results.append(validation_preds)\n",
        "\n",
        "    val_labels.append(label)\n",
        "\n",
        "#raw output from forward pass\n",
        "logits = torch.cat(val_results, dim=0)\n",
        "\n",
        "#Corresponding labels of data ran trough outputs\n",
        "vLabels = torch.cat(val_labels, dim=0)\n"
      ],
      "metadata": {
        "id": "nObSl_vy_VR0"
      },
      "execution_count": null,
      "outputs": []
    },
    {
      "cell_type": "markdown",
      "source": [
        "### Convert Logits to Probabilities"
      ],
      "metadata": {
        "id": "ltRUm5K-so-x"
      }
    },
    {
      "cell_type": "code",
      "source": [
        "#Calculate probabilities for the logits. The sigmoid activation function is use due to doing a binary classification\n",
        "probabilities = f.sigmoid(logits)"
      ],
      "metadata": {
        "id": "IgVm5vjbmouq"
      },
      "execution_count": null,
      "outputs": []
    },
    {
      "cell_type": "code",
      "source": [
        "#Confirming the shape of our probabilities\n",
        "probabilities.shape"
      ],
      "metadata": {
        "colab": {
          "base_uri": "https://localhost:8080/"
        },
        "id": "GpnaqV6Knmty",
        "outputId": "a733b8b9-fb10-4bee-8ba0-4acc709be449"
      },
      "execution_count": null,
      "outputs": [
        {
          "output_type": "execute_result",
          "data": {
            "text/plain": [
              "torch.Size([1055, 2])"
            ]
          },
          "metadata": {},
          "execution_count": 40
        }
      ]
    },
    {
      "cell_type": "markdown",
      "source": [
        "### Convert Probabilities to Prediction"
      ],
      "metadata": {
        "id": "Qhb_c733s91u"
      }
    },
    {
      "cell_type": "code",
      "source": [
        "predicted_indicies = torch.argmax(probabilities, dim=1)"
      ],
      "metadata": {
        "id": "vcN1rGXEWxTP"
      },
      "execution_count": null,
      "outputs": []
    },
    {
      "cell_type": "code",
      "source": [
        "predicted_indicies"
      ],
      "metadata": {
        "colab": {
          "base_uri": "https://localhost:8080/"
        },
        "id": "5dsUwbXLCSqd",
        "outputId": "580ebd20-b348-4aa1-ae72-04a37012e377"
      },
      "execution_count": null,
      "outputs": [
        {
          "output_type": "execute_result",
          "data": {
            "text/plain": [
              "1055"
            ]
          },
          "metadata": {},
          "execution_count": 43
        }
      ]
    },
    {
      "cell_type": "markdown",
      "source": [
        "### Evaluation Metrics"
      ],
      "metadata": {
        "id": "XdwH1v0vudT9"
      }
    },
    {
      "cell_type": "code",
      "execution_count": null,
      "metadata": {
        "id": "qjTq2DTW7eeh"
      },
      "outputs": [],
      "source": [
        "correct_preds = (vLabels == predicted_indicies)"
      ]
    },
    {
      "cell_type": "code",
      "source": [
        "#Compute the Accuracy\n",
        "accuracy = correct_preds.float().mean()"
      ],
      "metadata": {
        "id": "eD5yBQB0oeZP"
      },
      "execution_count": null,
      "outputs": []
    },
    {
      "cell_type": "code",
      "source": [
        "accuracy"
      ],
      "metadata": {
        "colab": {
          "base_uri": "https://localhost:8080/"
        },
        "id": "wY7VDDg8pBMF",
        "outputId": "008bfeb5-b559-4fc2-a046-6c6dc4c4eb2f"
      },
      "execution_count": null,
      "outputs": [
        {
          "output_type": "execute_result",
          "data": {
            "text/plain": [
              "tensor(0.9791, device='cuda:0')"
            ]
          },
          "metadata": {},
          "execution_count": 49
        }
      ]
    },
    {
      "cell_type": "code",
      "source": [
        "#Compute the Receiver Operating Characteristic - Area Under the Curve\n",
        "auc_roc = auroc(probabilities[:, 1], vLabels, task=\"binary\")"
      ],
      "metadata": {
        "id": "MQENdZiduL0G"
      },
      "execution_count": null,
      "outputs": []
    },
    {
      "cell_type": "code",
      "source": [
        "auc_roc"
      ],
      "metadata": {
        "colab": {
          "base_uri": "https://localhost:8080/"
        },
        "id": "fnvUQLmvx4rS",
        "outputId": "c5d40023-5a40-4260-f62a-48d975846188"
      },
      "execution_count": null,
      "outputs": [
        {
          "output_type": "execute_result",
          "data": {
            "text/plain": [
              "tensor(0.9970, device='cuda:0')"
            ]
          },
          "metadata": {},
          "execution_count": 59
        }
      ]
    },
    {
      "cell_type": "markdown",
      "source": [
        "## Next: build a testing loop"
      ],
      "metadata": {
        "id": "qLqmiYJMtrIS"
      }
    },
    {
      "cell_type": "code",
      "source": [],
      "metadata": {
        "id": "BJTt6wOOvdzy"
      },
      "execution_count": null,
      "outputs": []
    }
  ],
  "metadata": {
    "accelerator": "GPU",
    "colab": {
      "gpuType": "T4",
      "provenance": [],
      "include_colab_link": true
    },
    "kernelspec": {
      "display_name": "Python 3",
      "name": "python3"
    },
    "language_info": {
      "codemirror_mode": {
        "name": "ipython",
        "version": 3
      },
      "file_extension": ".py",
      "mimetype": "text/x-python",
      "name": "python",
      "nbconvert_exporter": "python",
      "pygments_lexer": "ipython3",
      "version": "3.11.7"
    }
  },
  "nbformat": 4,
  "nbformat_minor": 0
}